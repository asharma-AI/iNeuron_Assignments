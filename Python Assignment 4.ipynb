{
 "cells": [
  {
   "cell_type": "markdown",
   "metadata": {},
   "source": [
    "### Python Assignment 4"
   ]
  },
  {
   "cell_type": "markdown",
   "metadata": {},
   "source": [
    "## #1"
   ]
  },
  {
   "cell_type": "markdown",
   "metadata": {},
   "source": [
    "1.1 Write a Python Program(with class concepts) to find the area of the triangle using the below\n",
    "formula.\n",
    "area = (s*(s-a)*(s-b)*(s-c)) ** 0.5\n",
    "Function to take the length of the sides of triangle from user should be defined in the parent\n",
    "class and function to calculate the area should be defined in subclass.\n",
    "\n",
    "1.2 Write a function filter_long_words() that takes a list of words and an integer n and returns\n",
    "the list of words that are longer than n."
   ]
  },
  {
   "cell_type": "code",
   "execution_count": 44,
   "metadata": {},
   "outputs": [
    {
     "name": "stdout",
     "output_type": "stream",
     "text": [
      "18.973665961010276\n"
     ]
    }
   ],
   "source": [
    "class getside:\n",
    "    def __init__(self, side_a, side_b, side_c):\n",
    "        self.a = side_a\n",
    "        self.b = side_b\n",
    "        self.c = side_c\n",
    "        self.s=(self.a+self.b+self.c)\n",
    "        \n",
    "    def area(self):\n",
    "        return (self.s*(self.s-self.a)*(self.s-self.b)*(self.s-self.c)) ** 0.5 \n",
    "    \n",
    "class getarea(getside):\n",
    "    def __init__(self, a, b, c):\n",
    "        getside.__init__(self,a, b, c) \n",
    "\n",
    "x = getarea(1,2,3)\n",
    "#print(x.a, x.b, x.c)\n",
    "print(x.area())  # It appears as nothing is passed but python will pass an instance of class."
   ]
  },
  {
   "cell_type": "code",
   "execution_count": 49,
   "metadata": {},
   "outputs": [
    {
     "name": "stdout",
     "output_type": "stream",
     "text": [
      "['hhhtiti', 'jfoijsadp']\n"
     ]
    }
   ],
   "source": [
    "class longwords:\n",
    "    def __init__(self, n, lst):\n",
    "        self.n = n\n",
    "        self.lst = lst\n",
    "        \n",
    "    def filter_long_words(self):\n",
    "        rtn_lst = []\n",
    "        for i in range(0,len(self.lst)):\n",
    "            if len(self.lst[i]) > self.n:\n",
    "                rtn_lst.append(self.lst[i])\n",
    "        return rtn_lst \n",
    "    \n",
    "x=longwords(5,['atryn','ahg','hhhtiti','jfoijsadp'])\n",
    "print(x.filter_long_words())"
   ]
  },
  {
   "cell_type": "markdown",
   "metadata": {},
   "source": [
    "## #2"
   ]
  },
  {
   "cell_type": "markdown",
   "metadata": {},
   "source": [
    "2.1 Write a Python program using function concept that maps list of words into a list of integers\n",
    "representing the lengths of the corresponding words.\n",
    "Hint: If a list [ ab,cde,erty] is passed on to the python function output should come as [2,3,4]\n",
    "Here 2,3 and 4 are the lengths of the words in the list.\n",
    "\n",
    "2.2 Write a Python function which takes a character (i.e. a string of length 1) and returns True if\n",
    "it is a vowel, False otherwise."
   ]
  },
  {
   "cell_type": "code",
   "execution_count": 52,
   "metadata": {},
   "outputs": [
    {
     "name": "stdout",
     "output_type": "stream",
     "text": [
      "[5, 3, 7, 9]\n"
     ]
    }
   ],
   "source": [
    "class wordlen:\n",
    "    def __init__(self, lst):\n",
    "        self.lst = lst\n",
    "        \n",
    "    def findlen(self):\n",
    "        rtn_lst = []\n",
    "        for i in range(0,len(self.lst)):\n",
    "                rtn_lst.append(len(self.lst[i]))\n",
    "        return rtn_lst \n",
    "    \n",
    "x=wordlen(['atryn','ahg','hhhtiti','jfoijsadp'])\n",
    "print(x.findlen())"
   ]
  },
  {
   "cell_type": "code",
   "execution_count": 57,
   "metadata": {},
   "outputs": [
    {
     "name": "stdout",
     "output_type": "stream",
     "text": [
      "True\n",
      "False\n"
     ]
    }
   ],
   "source": [
    "def chkvowel(chr):\n",
    "    if chr in ('a','e','i','o','u'):\n",
    "        return True\n",
    "    else:\n",
    "        return False\n",
    "\n",
    "print(chkvowel('e'))\n",
    "print(chkvowel('c'))"
   ]
  }
 ],
 "metadata": {
  "kernelspec": {
   "display_name": "Python 3",
   "language": "python",
   "name": "python3"
  },
  "language_info": {
   "codemirror_mode": {
    "name": "ipython",
    "version": 3
   },
   "file_extension": ".py",
   "mimetype": "text/x-python",
   "name": "python",
   "nbconvert_exporter": "python",
   "pygments_lexer": "ipython3",
   "version": "3.8.3"
  }
 },
 "nbformat": 4,
 "nbformat_minor": 4
}
